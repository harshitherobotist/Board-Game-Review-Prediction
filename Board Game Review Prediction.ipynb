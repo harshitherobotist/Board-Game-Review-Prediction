{
 "cells": [
  {
   "cell_type": "markdown",
   "metadata": {},
   "source": [
    "# BOARD GAME REVIEW PREDICTION\n",
    "## DATA FROM https://github.com/ThaWeatherman/scrapers.git\n",
    "AUTHOR - HARSHIT SHARMA"
   ]
  },
  {
   "cell_type": "code",
   "execution_count": 85,
   "metadata": {},
   "outputs": [],
   "source": [
    "#import the required packages\n",
    "import pandas as pd\n",
    "import matplotlib.pyplot as plt\n",
    "import seaborn as sns\n",
    "import sklearn\n",
    "from sklearn.model_selection import train_test_split"
   ]
  },
  {
   "cell_type": "code",
   "execution_count": 86,
   "metadata": {},
   "outputs": [],
   "source": [
    "#importing the dataset\n",
    "games = pd.read_csv(\"games.csv\")"
   ]
  },
  {
   "cell_type": "code",
   "execution_count": 87,
   "metadata": {},
   "outputs": [
    {
     "name": "stdout",
     "output_type": "stream",
     "text": [
      "Index(['id', 'type', 'name', 'yearpublished', 'minplayers', 'maxplayers',\n",
      "       'playingtime', 'minplaytime', 'maxplaytime', 'minage', 'users_rated',\n",
      "       'average_rating', 'bayes_average_rating', 'total_owners',\n",
      "       'total_traders', 'total_wanters', 'total_wishers', 'total_comments',\n",
      "       'total_weights', 'average_weight'],\n",
      "      dtype='object')\n",
      "(81312, 20)\n"
     ]
    }
   ],
   "source": [
    "print(games.columns)\n",
    "print(games.shape)"
   ]
  },
  {
   "cell_type": "markdown",
   "metadata": {},
   "source": [
    "we will try to predict average_rating "
   ]
  },
  {
   "cell_type": "code",
   "execution_count": 88,
   "metadata": {},
   "outputs": [
    {
     "data": {
      "image/png": "[encoded data removed]",
      "text/plain": [
       "<Figure size 432x288 with 1 Axes>"
      ]
     },
     "metadata": {
      "needs_background": "light"
     },
     "output_type": "display_data"
    }
   ],
   "source": [
    "#lets make a histogram of all ratings of avg_rating\n",
    "#data preprocessing\n",
    "plt.hist(games[\"average_rating\"])\n",
    "plt.show()\n"
   ]
  },
  {
   "cell_type": "markdown",
   "metadata": {},
   "source": [
    "we see most of ratings are zero so check the reason behind that"
   ]
  },
  {
   "cell_type": "code",
   "execution_count": 89,
   "metadata": {},
   "outputs": [
    {
     "name": "stdout",
     "output_type": "stream",
     "text": [
      "id                             318\n",
      "type                     boardgame\n",
      "name                    Looney Leo\n",
      "yearpublished                    0\n",
      "minplayers                       0\n",
      "maxplayers                       0\n",
      "playingtime                      0\n",
      "minplaytime                      0\n",
      "maxplaytime                      0\n",
      "minage                           0\n",
      "users_rated                      0\n",
      "average_rating                   0\n",
      "bayes_average_rating             0\n",
      "total_owners                     0\n",
      "total_traders                    0\n",
      "total_wanters                    0\n",
      "total_wishers                    1\n",
      "total_comments                   0\n",
      "total_weights                    0\n",
      "average_weight                   0\n",
      "Name: 13048, dtype: object\n",
      "id                                  12333\n",
      "type                            boardgame\n",
      "name                    Twilight Struggle\n",
      "yearpublished                        2005\n",
      "minplayers                              2\n",
      "maxplayers                              2\n",
      "playingtime                           180\n",
      "minplaytime                           180\n",
      "maxplaytime                           180\n",
      "minage                                 13\n",
      "users_rated                         20113\n",
      "average_rating                    8.33774\n",
      "bayes_average_rating              8.22186\n",
      "total_owners                        26647\n",
      "total_traders                         372\n",
      "total_wanters                        1219\n",
      "total_wishers                        5865\n",
      "total_comments                       5347\n",
      "total_weights                        2562\n",
      "average_weight                     3.4785\n",
      "Name: 0, dtype: object\n"
     ]
    }
   ],
   "source": [
    "#printing the 1st row of all games having zero rating\n",
    "print(games[games[\"average_rating\"] == 0].iloc[0])\n",
    "print(games[games[\"average_rating\"] > 0].iloc[0])"
   ]
  },
  {
   "cell_type": "markdown",
   "metadata": {},
   "source": [
    "we see that these game swith zero scores are not rates and do not have other features so lets remove all games with zero rating and then see"
   ]
  },
  {
   "cell_type": "code",
   "execution_count": 90,
   "metadata": {},
   "outputs": [
    {
     "data": {
      "image/png": "[encoded data removed]",
      "text/plain": [
       "<Figure size 432x288 with 1 Axes>"
      ]
     },
     "metadata": {
      "needs_background": "light"
     },
     "output_type": "display_data"
    }
   ],
   "source": [
    "#removing zero reviews rows\n",
    "games = games[games[\"users_rated\"]>0]\n",
    "\n",
    "#removing missing value rows also\n",
    "games = games.dropna(axis = 0)\n",
    "\n",
    "# now lets see the data again\n",
    "plt.hist(games[\"average_rating\"])\n",
    "plt.show()"
   ]
  },
  {
   "cell_type": "markdown",
   "metadata": {},
   "source": [
    "Now we see that data is more useful it has a almost normal gaussian distribution slightly skewed to right"
   ]
  },
  {
   "cell_type": "code",
   "execution_count": 91,
   "metadata": {},
   "outputs": [
    {
     "name": "stdout",
     "output_type": "stream",
     "text": [
      "Index(['id', 'type', 'name', 'yearpublished', 'minplayers', 'maxplayers',\n",
      "       'playingtime', 'minplaytime', 'maxplaytime', 'minage', 'users_rated',\n",
      "       'average_rating', 'bayes_average_rating', 'total_owners',\n",
      "       'total_traders', 'total_wanters', 'total_wishers', 'total_comments',\n",
      "       'total_weights', 'average_weight'],\n",
      "      dtype='object')\n"
     ]
    }
   ],
   "source": [
    "#lets now remove the redundant features\n",
    "print(games.columns)"
   ]
  },
  {
   "cell_type": "markdown",
   "metadata": {},
   "source": [
    "lets make a correlation matrix using seaborn library"
   ]
  },
  {
   "cell_type": "code",
   "execution_count": 92,
   "metadata": {},
   "outputs": [
    {
     "data": {
      "image/png": "[encoded data removed]",
      "text/plain": [
       "<Figure size 720x720 with 2 Axes>"
      ]
     },
     "metadata": {
      "needs_background": "light"
     },
     "output_type": "display_data"
    }
   ],
   "source": [
    "corrmat = games.corr()\n",
    "fig = plt.figure(figsize = (10,10))\n",
    "sns.heatmap(corrmat, vmax =0.8, square = True)\n",
    "plt.show()\n"
   ]
  },
  {
   "cell_type": "markdown",
   "metadata": {},
   "source": [
    "This is a heatmap showing correlation between diffrent features/columns"
   ]
  },
  {
   "cell_type": "markdown",
   "metadata": {},
   "source": [
    "We see id is highly correlated with average rating if we use id in ML model it will learn it as a feature and so will\n",
    "ultimately turn to overfitting."
   ]
  },
  {
   "cell_type": "code",
   "execution_count": 93,
   "metadata": {},
   "outputs": [],
   "source": [
    "columns = games.columns.tolist()\n",
    "# removing redundant columns\n",
    "columns = [c for c in columns if c not in ['id', 'bayes_average_rating','average_rating','type','name']]\n",
    "\n",
    "#string the target\n",
    "target = \"average_rating\""
   ]
  },
  {
   "cell_type": "code",
   "execution_count": 94,
   "metadata": {},
   "outputs": [
    {
     "name": "stdout",
     "output_type": "stream",
     "text": [
      "(45515, 15) (11379, 15) (45515,) (11379,)\n"
     ]
    }
   ],
   "source": [
    "#generate the training and testing dataset\n",
    "\n",
    "train_X,test_X,train_y,test_y = train_test_split(games[columns],games[target], train_size = 0.8, random_state =1)\n",
    "\n",
    "# train = games.sample(frac = 0.8, random_state= 1)\n",
    "# test = games.loc[~games.index.isin(train.index)]\n",
    "print(train_X.shape,test_X.shape,train_y.shape,test_y.shape)"
   ]
  },
  {
   "cell_type": "code",
   "execution_count": 95,
   "metadata": {},
   "outputs": [
    {
     "name": "stdout",
     "output_type": "stream",
     "text": [
      "yearpublished     2006.0\n",
      "minplayers           2.0\n",
      "maxplayers           2.0\n",
      "playingtime         15.0\n",
      "minplaytime         15.0\n",
      "maxplaytime         15.0\n",
      "minage               6.0\n",
      "users_rated          3.0\n",
      "total_owners         5.0\n",
      "total_traders        0.0\n",
      "total_wanters        0.0\n",
      "total_wishers        0.0\n",
      "total_comments       3.0\n",
      "total_weights        0.0\n",
      "average_weight       0.0\n",
      "Name: 29029, dtype: float64 3.33333\n"
     ]
    }
   ],
   "source": [
    "print(train_X.iloc[100],train_y.iloc[100])"
   ]
  },
  {
   "cell_type": "code",
   "execution_count": 96,
   "metadata": {},
   "outputs": [
    {
     "data": {
      "text/plain": [
       "LinearRegression(copy_X=True, fit_intercept=True, n_jobs=None, normalize=False)"
      ]
     },
     "execution_count": 96,
     "metadata": {},
     "output_type": "execute_result"
    }
   ],
   "source": [
    "#import linear regression model\n",
    "from sklearn.linear_model import LinearRegression\n",
    "from sklearn.metrics import mean_squared_error\n",
    "LR = LinearRegression()\n",
    "#fitting the model to training data\n",
    "LR.fit(train_X,train_y)"
   ]
  },
  {
   "cell_type": "code",
   "execution_count": 97,
   "metadata": {},
   "outputs": [
    {
     "data": {
      "text/plain": [
       "2.0878654278597404"
      ]
     },
     "execution_count": 97,
     "metadata": {},
     "output_type": "execute_result"
    }
   ],
   "source": [
    "predictions = LR.predict(test_X)\n",
    "mean_squared_error(predictions,test_y)"
   ]
  },
  {
   "cell_type": "code",
   "execution_count": 98,
   "metadata": {},
   "outputs": [
    {
     "data": {
      "text/plain": [
       "1.4575588917181705"
      ]
     },
     "execution_count": 98,
     "metadata": {},
     "output_type": "execute_result"
    }
   ],
   "source": [
    "#importing a non linear model \n",
    "from sklearn.ensemble import RandomForestRegressor\n",
    "RF = RandomForestRegressor(n_estimators = 100, min_samples_leaf = 10, random_state = 1)\n",
    "\n",
    "#fitting to training data\n",
    "RF.fit(train_X,train_y)\n",
    "predictions_rf = RF.predict(test_X)\n",
    "mean_squared_error(predictions_rf,test_y)"
   ]
  },
  {
   "cell_type": "markdown",
   "metadata": {},
   "source": [
    "we see that mean squared error is much lower for a random forst regressor so its a better model"
   ]
  },
  {
   "cell_type": "code",
   "execution_count": 99,
   "metadata": {},
   "outputs": [
    {
     "name": "stdout",
     "output_type": "stream",
     "text": [
      "The mean squared error is reduced by 30.28846153846154% by using a random forest regressor instead of a linear regeressor\n"
     ]
    }
   ],
   "source": [
    "#the improvement \n",
    "print(\"The mean squared error is reduced by {}% by using a random forest regressor instead of a linear regeressor\".format(((2.087-1.457)/2.08)*100))"
   ]
  },
  {
   "cell_type": "code",
   "execution_count": 100,
   "metadata": {},
   "outputs": [
    {
     "name": "stdout",
     "output_type": "stream",
     "text": [
      "yearpublished     2013.0000\n",
      "minplayers           2.0000\n",
      "maxplayers           4.0000\n",
      "playingtime         30.0000\n",
      "minplaytime         30.0000\n",
      "maxplaytime         30.0000\n",
      "minage              10.0000\n",
      "users_rated       1119.0000\n",
      "total_owners      1892.0000\n",
      "total_traders       43.0000\n",
      "total_wanters      246.0000\n",
      "total_wishers      609.0000\n",
      "total_comments     327.0000\n",
      "total_weights       88.0000\n",
      "average_weight       1.8977\n",
      "Name: 2602, dtype: float64\n",
      "[7.16683099] [6.98339228]\n",
      "True Rating =  7.06652\n"
     ]
    }
   ],
   "source": [
    "#an example\n",
    "print(test_X.iloc[0])\n",
    "rating_LR = LR.predict(test_X.iloc[0].values.reshape(1,-1))\n",
    "rating_RF = RF.predict(test_X.iloc[0].values.reshape(1,-1))\n",
    "print(rating_LR,rating_RF)\n",
    "print(\"True Rating = \", test_y.iloc[0])"
   ]
  },
  {
   "cell_type": "markdown",
   "metadata": {},
   "source": [
    "we see that both models are predicting nearly closely to the True Value"
   ]
  },
  {
   "cell_type": "markdown",
   "metadata": {},
   "source": [
    "# Result-\n",
    "## The RandomForestRegerssor reduced the mean squared error by almost 30% as compared to linear regression as we can see the correlation trend is non linear\n",
    "## We can now predict that people will like the board game or not based on ceratin features"
   ]
  },
  {
   "cell_type": "code",
   "execution_count": null,
   "metadata": {},
   "outputs": [],
   "source": []
  }
 ],
 "metadata": {
  "kernelspec": {
   "display_name": "Python 3",
   "language": "python",
   "name": "python3"
  },
  "language_info": {
   "codemirror_mode": {
    "name": "ipython",
    "version": 3
   },
   "file_extension": ".py",
   "mimetype": "text/x-python",
   "name": "python",
   "nbconvert_exporter": "python",
   "pygments_lexer": "ipython3",
   "version": "3.8.3"
  }
 },
 "nbformat": 4,
 "nbformat_minor": 4
}
